{
 "cells": [
  {
   "cell_type": "markdown",
   "metadata": {},
   "source": [
    "# COGS 108 - Project Proposal"
   ]
  },
  {
   "cell_type": "markdown",
   "metadata": {},
   "source": [
    "## Important\n",
    "\n",
    "- Make sure all group members (3-6 people) are listed in the group members section.\n",
    "- ONE, and only one, member of your group should upload this notebook to TritonED. \n",
    "- Each member of the group will receive the same grade on this assignment. \n",
    "- Keep the file name the same: submit the file 'ProjectProposal.ipynb'"
   ]
  },
  {
   "cell_type": "markdown",
   "metadata": {},
   "source": [
    "## Overview"
   ]
  },
  {
   "cell_type": "markdown",
   "metadata": {},
   "source": [
    "Read the project description and detailed instructions for this assignment in the 'ProjectOutline' document."
   ]
  },
  {
   "cell_type": "markdown",
   "metadata": {},
   "source": [
    "## Group Members: Fill in the Student IDs of each group member here\n",
    "\n",
    "Replace the lines below to list each persons full student ID. Add lines as needed for your group size, and make sure each ID is listed on a separate line. \n",
    "\n",
    "- A12251352 (Jonah Escalona)\n",
    "- A14122621 (Dimitri Matevossian)\n",
    "- A11940541 (Kim Carreon)\n",
    "- A14169494 (Victor Oliveria)\n",
    "- A14180701 (Joseph Rico)\n"
   ]
  },
  {
   "cell_type": "markdown",
   "metadata": {},
   "source": [
    "### Research Question\n",
    "\n",
    "What is your research question? (1-2 sentences)"
   ]
  },
  {
   "cell_type": "markdown",
   "metadata": {},
   "source": [
    "_Do external news/social media events affect the stock price of companies? More specifically, would Elon Musk's news headlines and tweets affect the prices of Tesla stocks?_"
   ]
  },
  {
   "cell_type": "markdown",
   "metadata": {},
   "source": [
    "### Hypothesis\n",
    "\n",
    "What is your main hypothesis and predictions? (2-3 sentences)"
   ]
  },
  {
   "cell_type": "markdown",
   "metadata": {},
   "source": [
    "_A lot of how stock prices fluctuate are based on news events that are related to the company whether the news is good or bad. In this case would Tesla CEO Elon Musk’s tweets and headlines on the news have any effect on Tesla stock prices? We predict that whenever he tweets the stock prices for Tesla fluctuates._"
   ]
  },
  {
   "cell_type": "markdown",
   "metadata": {},
   "source": [
    "### Dataset(s)\n",
    "\n",
    "What data will you use to answer your question? Describe the dataset(s) in terms of number of observations, what kind of features it contains, etc. You must use at least one dataset containing at least approximately 1000 observations (if your data are smaller but you feel they are sufficient, email Prof. Keown). You are welcome (and in fact recommended) to find multiple datasets! If you do so, describe each one, and briefly explain how you will combine them together. "
   ]
  },
  {
   "cell_type": "markdown",
   "metadata": {},
   "source": [
    "*Fill in your dataset information here*\n",
    "\n",
    "(Copy this information for each dataset)\n",
    "- Dataset Name: _Tesla, Inc. Common Stock Historical Prices_\n",
    "- Link to the dataset: <a>https://www.nasdaq.com/symbol/tsla/historical</a>\n",
    "- Number of observations: **2172**\n",
    "\n",
    "- Dataset Name: _Elon Musk's Tweets | Kaggle_\n",
    "- Link to the dataset: <a>https://www.kaggle.com/kulgen/elon-musks-tweets/version/1</a>\n",
    "- Number of observations: **3218**\n",
    "\n",
    "1-2 sentences describing the dataset. \n",
    "\n",
    "If you plan to use multiple datasets, add 1-2 sentences about how you plan to combine these datasets.\n",
    "\n",
    "_The first dataset archives ten years of stock prices within the time period of Tesla being on the stock market. This includes opening prices, highs, lows, closing prices and volumes of stocks moved for each date. The second dataset archives the tweets from Elon Musk from the years 2012-2017. We use this dataset along with the first one in order to investigate whether there is a relationship between stock price change and tweeting patterns._\n"
   ]
  },
  {
   "cell_type": "markdown",
   "metadata": {},
   "source": [
    "### Background and Prior Work\n",
    "\n",
    "Why is this question of interest, what background information led you to your hypothesis, and why is this important?\n",
    "\n",
    "Find some relevant prior work, and reference those sources. Even if you think you have a totally novel question, find the most similar prior work that you can and discuss how it relates to your project. \n",
    "\n",
    "References can be research publications, but they need not be. Blogs, github repositories, company websites, etc., are all viable references if they are relevant to your project.\n",
    "\n",
    "(2-3 paragraphs, including at least 2 references)"
   ]
  },
  {
   "cell_type": "markdown",
   "metadata": {},
   "source": [
    "_These articles show the effect that a company using Twitter can have on the stock market. We wanted to see the effect that a CEO with an active Twitter account would have on the stock price associated with his company would be. According to “Fast Food Stocks & Social Media Are Heating Up”, a company having an active Twitter account can have significant effects on its stock price._\n",
    "\n",
    "_In the article “The Effects of Twitter Sentiment on Stock Price Returns”, it is stated that the sentiment of each given tweet can positively or negatively affect the stock price of a company. This is important because companies can use this to their advantage by maintaining an active twitter account that posts with positive sentiments._\n",
    "\n",
    "\n",
    "References (include links):\n",
    "- 1) “The Effects of Twitter Sentiment on Stock Price Returns” [<a>https://journals.plos.org/plosone/article?id=10.1371/journal.pone.0138441</a>]\n",
    "- 2) “Fast Food Stocks & Social Media Are Heating Up” [<a>https://www.forbes.com/sites/alapshah/2018/06/21/fast-food-stocks-social-media-are-heating-up/#36e7b8a53c93</a>]\n",
    "- 3) “The effect of internal and external factors on stock market prices - evidence from Saudi Arabia” [<a> http://www.abrmr.com/myfile/conference_proceedings/Con_Pro_89747/2018icbedcp72.pdf</a>]"
   ]
  },
  {
   "cell_type": "markdown",
   "metadata": {},
   "source": [
    "### Proposed Methods\n",
    "\n",
    "What methods will you use to analyze your data?\n",
    "\n",
    "- How 'clean' is the data? To the extent that it requires cleaning, how will you do so?\n",
    "- How will you analyze the data? Be as specific as you can. Briefly mention any pre-processing steps that are required for your methods (for example, checking data distributions and performing any transformations that may be required). Include a brief outline of how you will apply your chosen method(s). \n",
    "- What do you plan to report? Briefly mention any key visualizations you plan to create, and/or the kind of results you will be able to report that address your question (this could be, for example, the outcome of some statistical test(s), prediction error on a model, a model fit parameter, etc.).\n",
    "- Include a list of packages you expect to use for you project. If you plan to use packages we have not used in class, add a very brief description about them (a few words is sufficient). "
   ]
  },
  {
   "cell_type": "markdown",
   "metadata": {},
   "source": [
    "*Fill in your proposed methods information here:*\n",
    "\n",
    "*Data Cleaning (2-3 sentences)*\n",
    "\n",
    "_In terms of relevant columns for the data, we will remove the Volume column as we are only focusing on the prices of that day. We may also want to clean the time column, and adding columns for month and day for the twitter dataset. We may filter out certain dates in terms of date ranges that we want to focus on in our analysis._\n",
    "\n",
    "*Data Analysis (1-2 paragraphs)*\n",
    "\n",
    "_We will look for periods of time where Elon Musk’s Twitter activity is higher than normal and compare the change in stock price to time periods where his Twitter is less active. If the trend in the stock price experiences significant change during times where Musk’s twitter is highly active, then we can make a connection between the two factors._\n",
    "_We can also filter Elon Musk’s tweets to analyze those that contain keywords such as “Tesla”, “SpaceX”, or “Mars”. Tweets with these keywords may have a greater impact on the stock price._\n",
    "\n",
    "*What to report (2-3 sentences)*\n",
    "\n",
    "_We reporting the number of tweets pertaining to Tesla and how it is correlated with the stock prices of Telsa. This would include using tweets in which Telsa is the context._\n",
    "\n",
    "Packages we plan to use:\n",
    "- a) _numpy_\n",
    "- b) _pandas_\n",
    "- c) _matplotlib_\n",
    "- d) _seaborn_"
   ]
  },
  {
   "cell_type": "markdown",
   "metadata": {},
   "source": [
    "### Ethics and Privacy\n",
    "\n",
    "Briefly acknowledge and address any potential issues of ethics and privacy for the proposed project. In particular:\n",
    "- Do you have permission to use this data, for this purpose?\n",
    "- Are there privacy concerns regarding your datasets that you need to deal with, and/or terms of use that you need to comply with?\n",
    "- Are there potential biases in your dataset(s), in terms of who it composes, and how it was collected, that may be problematic in terms of it allowing for equitable analysis? (For example, does your data exclude particular populations, or is it likely to reflect particular human biases in a way that could be a problem?) \n",
    "- Are there any other issues related to your topic area, data, and/or analyses that are potentially problematic in terms of data privacy and equitable impact?\n",
    "- How will you handle any issues you identify?\n",
    "\n",
    "(1-2 paragraphs)\n",
    "\n",
    "_This dataset is posted on the New York Stock Exchange data for public usage in order to archive the history of stock prices for Tesla, therefore we can use this dataset for our intended purpose. In terms of public data in general, there are no privacy concerns as this was posted on a public website with the intention that other people will use it to analyze and predict trends in companies’ stock prices. In terms of potential biases, there are none that can be thought of since this is just raw data archived from the New York Stock Exchange, the data only including prices and volumes of that day. \n",
    "In terms of any potentially problematic issues with our analyses we will be analyzing Tesla stock prices in conjunction with his tweets. We may not have a reliable source to account for his tweets as these are not immutable in terms of what is archived. Tweets can be deleted at any time so there is no way to account for all of the tweets that are involved. In order to handle these issues, we will be using this actual twitter, as well as archives from multiple sources of his tweets just to cross reference and make sure all of the tweets involved with the analysis are accounted for._\n"
   ]
  },
  {
   "cell_type": "markdown",
   "metadata": {},
   "source": [
    "### Discussion\n",
    "\n",
    "Discuss your project, looking forward to what your results might mean, how they fit it in with what is already known, and what problems you may encounter. \n",
    "\n",
    "In particular:\n",
    "- If your analyses and hypotheses are correct, what will be the contribution of this project to the topic domain? \n",
    "- Alternatively, what will you do if you methods don't work and/or your hypotheses are wrong? \n",
    "- What are the potential pitfalls and potential confounds of your data and/or methods that may cause problems, and/or influence your interpretations?\n",
    "\n",
    "(2-3 paragraphs)"
   ]
  },
  {
   "cell_type": "markdown",
   "metadata": {},
   "source": [
    "*Fill in your discussion information here*\n",
    "\n",
    "_The analysis will bring forth a deep understanding of how the comments on social media of public figures can bring effects to the stock market value of companies. In this particular example, the analysis will focus on the tweets of Elon Musk, and the controversies surrounding it, and how it impacted Tesla’s stock market value within moments the tweets were sent. Potential pitfalls of the project would be if there are no correlations found between Telsa’s stock market values and Elon Musk’s twitter activity._ \n",
    "\n",
    "_A possible problem would be finding periods of high twitter usage with no fluctuations in stock, or that said fluctuations could be happening due to other reasons not related to Musk’s activity on twitter. The project will attempt to mitigate bias in the findings and try to be very specific when creating any correlation between Elon Musk’s twitter usage, and Tesla’s stock market values._\n"
   ]
  },
  {
   "cell_type": "code",
   "execution_count": null,
   "metadata": {},
   "outputs": [],
   "source": []
  }
 ],
 "metadata": {
  "kernelspec": {
   "display_name": "Python 3",
   "language": "python",
   "name": "python3"
  },
  "language_info": {
   "codemirror_mode": {
    "name": "ipython",
    "version": 3
   },
   "file_extension": ".py",
   "mimetype": "text/x-python",
   "name": "python",
   "nbconvert_exporter": "python",
   "pygments_lexer": "ipython3",
   "version": "3.7.1"
  }
 },
 "nbformat": 4,
 "nbformat_minor": 2
}
